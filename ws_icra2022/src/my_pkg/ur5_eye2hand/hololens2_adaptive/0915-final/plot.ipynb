{
 "cells": [
  {
   "cell_type": "code",
   "execution_count": 1,
   "source": [
    "import numpy as np\n",
    "import matplotlib.pyplot as plt\n",
    "plt.rcParams['pdf.fonttype'] = 42\n",
    "plt.rcParams['ps.fonttype'] = 42\n",
    "# plt.rcParams['pdf.use14corefonts'] = True\n",
    "# plt.switch_backend(\"pgf\")"
   ],
   "outputs": [],
   "metadata": {}
  },
  {
   "cell_type": "code",
   "execution_count": 2,
   "source": [
    "# Initialization\n",
    "log_x_array = np.load('log_x.npy')\n",
    "comp_x_array = np.load('0914_comparison/log_x.npy')\n",
    "log_q = np.load('log_q.npy')\n",
    "log_qdot = np.load('log_qdot.npy')\n",
    "log_rdot = np.load('log_rdot.npy')\n",
    "comp_rdot = np.load('0914_comparison/log_rdot.npy')\n",
    "log_dqdot = np.load('log_dqdot.npy')\n",
    "# log_dx = np.load('log_dx.npy')\n",
    "log_theta_k_array = np.load('log_theta_k.npy')\n",
    "log_theta_z_array = np.load('log_theta_z.npy')\n",
    "log_z_hat_array = np.load('log_z_hat.npy')\n",
    "log_d_array = np.load('log_d.npy')\n",
    "log_actual_z_array = np.load('log_actual_z.npy',allow_pickle=True)\n",
    "\n",
    "ros_freq = 30\n",
    "dx = np.array([[720],[540]])"
   ],
   "outputs": [],
   "metadata": {}
  },
  {
   "cell_type": "code",
   "execution_count": 3,
   "source": [
    "# task space velocity\n",
    "# plt.figure(figsize=(30,20))\n",
    "# for j in range(6):\n",
    "#     ax = plt.subplot(3, 2, j+1)\n",
    "#     ax.set_title('Cartesian space velocity %d' % (j+1),fontsize=20)\n",
    "#     plt.xlabel('time (s)')\n",
    "#     if j<3:\n",
    "    #     plt.ylabel('velocity (m/s)', fontsize = 18)\n",
    "    # else:\n",
    "    #     plt.ylabel('angular velocity (rad/s)',fontsize = 18)\n",
    "\n",
    "    # plt.plot(np.linspace(0,np.shape(log_rdot)[1]/ros_freq,np.shape(log_rdot)[1]),np.reshape(np.array(log_rdot[j,:]),[-1,]) )\n",
    "# plt.savefig('log_r.jpg')"
   ],
   "outputs": [],
   "metadata": {}
  },
  {
   "cell_type": "code",
   "execution_count": 4,
   "source": [
    "# vision space position\n",
    "# fig = plt.figure()\n",
    "label_font = {'family': 'serif', 'size': 15}\n",
    "tick_size = 10\n",
    "legend_size = 10\n",
    "plt.figure(figsize=(4, 4))\n",
    "plt.plot(log_x_array[:,0], log_x_array[:,1], label = 'actual', zorder = 2)\n",
    "plt.scatter(dx[0], dx[1], c='r', label = 'target', zorder = 3, marker = '*', s = 400, alpha = 1, edgecolors='black')\n",
    "plt.legend(markerscale = 0.7, fontsize = legend_size)\n",
    "# plt.title('vision space trajectory')\n",
    "plt.xlabel('x (pixel)', fontdict=label_font)\n",
    "plt.ylabel('y (pixel)', fontdict=label_font)\n",
    "plt.xticks(fontsize = tick_size)\n",
    "plt.yticks(fontsize = tick_size)\n",
    "# plt.gca().xaxis.set_label_position('top')\n",
    "# plt.gca().xaxis.set_ticks_position('top')\n",
    "plt.xlim(625, 1075)\n",
    "plt.ylim(825, 375)\n",
    "plt.grid()\n",
    "# plt.savefig('expr1_position.jpg', bbox_inches = 'tight', dpi = 300, pad_inches=0.015)\n",
    "plt.savefig('expr1_position.pdf', bbox_inches = 'tight', pad_inches=0.015)"
   ],
   "outputs": [],
   "metadata": {}
  },
  {
   "cell_type": "code",
   "execution_count": 5,
   "source": [
    "#z_hat\n",
    "plt.figure(figsize = (4, 4))\n",
    "# plt.rcParams['pdf.use14corefonts'] = True\n",
    "plt.plot(np.linspace(0,1196, 1196)/ros_freq, np.reshape(log_z_hat_array[:1196],[-1,]),label = 'estimated depth')\n",
    "plt.plot(np.linspace(0,1196, 1196)/ros_freq, np.reshape(log_actual_z_array[:1196],[-1,]),label = 'actual depth')\n",
    "plt.legend(fontsize = legend_size)\n",
    "plt.xlabel('time (s)', fontdict=label_font)\n",
    "plt.ylabel('depth (m)', fontdict=label_font)\n",
    "# plt.xlim(0, np.shape(log_qdot)[1]/ros_freq)\n",
    "plt.savefig('adaptive_z_hat.pdf', bbox_inches = 'tight', pad_inches = 0.015)"
   ],
   "outputs": [],
   "metadata": {}
  },
  {
   "cell_type": "code",
   "execution_count": 6,
   "source": [
    "# vision space position verse time\n",
    "label_font = {'family': 'serif', 'size': 15}\n",
    "tick_size = 10\n",
    "legend_size = 10\n",
    "int_err_figsize = (4, 3.6)\n",
    "plt.subplots(figsize=int_err_figsize)\n",
    "plt.subplot(211)\n",
    "plt.plot(np.linspace(0,np.shape(log_rdot)[1]/ros_freq,np.shape(log_rdot)[1]), log_x_array[:,0]-dx[0],label = 'x')\n",
    "plt.plot(np.linspace(0,np.shape(log_rdot)[1]/ros_freq,np.shape(log_rdot)[1]), log_x_array[:,1]-dx[1],label = 'y')\n",
    "plt.legend(fontsize = legend_size)\n",
    "# plt.title('vision space error')\n",
    "plt.xlabel('time (s)', fontdict = label_font)\n",
    "plt.ylabel('error (pixel)', fontdict = label_font)\n",
    "plt.xticks(fontsize = tick_size)\n",
    "plt.yticks(fontsize = tick_size)\n",
    "plt.xlim([0, np.shape(log_rdot)[1]/ros_freq])\n",
    "plt.grid()\n",
    "\n",
    "plt.subplot(212)\n",
    "legend_size = 8\n",
    "for j in range(log_d_array.shape[1]):\n",
    "    plt.plot(np.linspace(0,np.shape(log_qdot)[1]/ros_freq,np.shape(log_qdot)[1]),log_d_array[:,j],label = str(j+1))\n",
    "plt.legend(fontsize = legend_size, ncol = 3)\n",
    "plt.xlabel('time (s)', fontdict = label_font)\n",
    "plt.ylabel('input (rad/s)', fontdict = label_font)\n",
    "plt.xticks(fontsize = tick_size)\n",
    "plt.yticks(fontsize = tick_size)\n",
    "plt.xlim([0, np.shape(log_rdot)[1]/ros_freq])\n",
    "plt.grid()\n",
    "\n",
    "plt.savefig('expr1_errint.pdf', bbox_inches = 'tight', pad_inches = 0.015)"
   ],
   "outputs": [
    {
     "output_type": "error",
     "ename": "ValueError",
     "evalue": "x and y must have same first dimension, but have shapes (1205,) and (1196,)",
     "traceback": [
      "\u001b[0;31m---------------------------------------------------------------------------\u001b[0m",
      "\u001b[0;31mValueError\u001b[0m                                Traceback (most recent call last)",
      "\u001b[0;32m/var/folders/g5/6yb8__v52xb5fkrhx_g1cfyc0000gn/T/ipykernel_72284/2773499750.py\u001b[0m in \u001b[0;36m<module>\u001b[0;34m\u001b[0m\n\u001b[1;32m     20\u001b[0m \u001b[0mlegend_size\u001b[0m \u001b[0;34m=\u001b[0m \u001b[0;36m8\u001b[0m\u001b[0;34m\u001b[0m\u001b[0;34m\u001b[0m\u001b[0m\n\u001b[1;32m     21\u001b[0m \u001b[0;32mfor\u001b[0m \u001b[0mj\u001b[0m \u001b[0;32min\u001b[0m \u001b[0mrange\u001b[0m\u001b[0;34m(\u001b[0m\u001b[0mlog_d_array\u001b[0m\u001b[0;34m.\u001b[0m\u001b[0mshape\u001b[0m\u001b[0;34m[\u001b[0m\u001b[0;36m1\u001b[0m\u001b[0;34m]\u001b[0m\u001b[0;34m)\u001b[0m\u001b[0;34m:\u001b[0m\u001b[0;34m\u001b[0m\u001b[0;34m\u001b[0m\u001b[0m\n\u001b[0;32m---> 22\u001b[0;31m     \u001b[0mplt\u001b[0m\u001b[0;34m.\u001b[0m\u001b[0mplot\u001b[0m\u001b[0;34m(\u001b[0m\u001b[0mnp\u001b[0m\u001b[0;34m.\u001b[0m\u001b[0mlinspace\u001b[0m\u001b[0;34m(\u001b[0m\u001b[0;36m0\u001b[0m\u001b[0;34m,\u001b[0m\u001b[0mnp\u001b[0m\u001b[0;34m.\u001b[0m\u001b[0mshape\u001b[0m\u001b[0;34m(\u001b[0m\u001b[0mlog_qdot\u001b[0m\u001b[0;34m)\u001b[0m\u001b[0;34m[\u001b[0m\u001b[0;36m1\u001b[0m\u001b[0;34m]\u001b[0m\u001b[0;34m/\u001b[0m\u001b[0mros_freq\u001b[0m\u001b[0;34m,\u001b[0m\u001b[0mnp\u001b[0m\u001b[0;34m.\u001b[0m\u001b[0mshape\u001b[0m\u001b[0;34m(\u001b[0m\u001b[0mlog_qdot\u001b[0m\u001b[0;34m)\u001b[0m\u001b[0;34m[\u001b[0m\u001b[0;36m1\u001b[0m\u001b[0;34m]\u001b[0m\u001b[0;34m)\u001b[0m\u001b[0;34m,\u001b[0m\u001b[0mlog_d_array\u001b[0m\u001b[0;34m[\u001b[0m\u001b[0;34m:\u001b[0m\u001b[0;34m,\u001b[0m\u001b[0mj\u001b[0m\u001b[0;34m]\u001b[0m\u001b[0;34m,\u001b[0m\u001b[0mlabel\u001b[0m \u001b[0;34m=\u001b[0m \u001b[0mstr\u001b[0m\u001b[0;34m(\u001b[0m\u001b[0mj\u001b[0m\u001b[0;34m+\u001b[0m\u001b[0;36m1\u001b[0m\u001b[0;34m)\u001b[0m\u001b[0;34m)\u001b[0m\u001b[0;34m\u001b[0m\u001b[0;34m\u001b[0m\u001b[0m\n\u001b[0m\u001b[1;32m     23\u001b[0m \u001b[0mplt\u001b[0m\u001b[0;34m.\u001b[0m\u001b[0mlegend\u001b[0m\u001b[0;34m(\u001b[0m\u001b[0mfontsize\u001b[0m \u001b[0;34m=\u001b[0m \u001b[0mlegend_size\u001b[0m\u001b[0;34m,\u001b[0m \u001b[0mncol\u001b[0m \u001b[0;34m=\u001b[0m \u001b[0;36m3\u001b[0m\u001b[0;34m)\u001b[0m\u001b[0;34m\u001b[0m\u001b[0;34m\u001b[0m\u001b[0m\n\u001b[1;32m     24\u001b[0m \u001b[0mplt\u001b[0m\u001b[0;34m.\u001b[0m\u001b[0mxlabel\u001b[0m\u001b[0;34m(\u001b[0m\u001b[0;34m'time (s)'\u001b[0m\u001b[0;34m,\u001b[0m \u001b[0mfontdict\u001b[0m \u001b[0;34m=\u001b[0m \u001b[0mlabel_font\u001b[0m\u001b[0;34m)\u001b[0m\u001b[0;34m\u001b[0m\u001b[0;34m\u001b[0m\u001b[0m\n",
      "\u001b[0;32m/usr/local/lib/python3.9/site-packages/matplotlib/pyplot.py\u001b[0m in \u001b[0;36mplot\u001b[0;34m(scalex, scaley, data, *args, **kwargs)\u001b[0m\n\u001b[1;32m   2838\u001b[0m \u001b[0;34m@\u001b[0m\u001b[0m_copy_docstring_and_deprecators\u001b[0m\u001b[0;34m(\u001b[0m\u001b[0mAxes\u001b[0m\u001b[0;34m.\u001b[0m\u001b[0mplot\u001b[0m\u001b[0;34m)\u001b[0m\u001b[0;34m\u001b[0m\u001b[0;34m\u001b[0m\u001b[0m\n\u001b[1;32m   2839\u001b[0m \u001b[0;32mdef\u001b[0m \u001b[0mplot\u001b[0m\u001b[0;34m(\u001b[0m\u001b[0;34m*\u001b[0m\u001b[0margs\u001b[0m\u001b[0;34m,\u001b[0m \u001b[0mscalex\u001b[0m\u001b[0;34m=\u001b[0m\u001b[0;32mTrue\u001b[0m\u001b[0;34m,\u001b[0m \u001b[0mscaley\u001b[0m\u001b[0;34m=\u001b[0m\u001b[0;32mTrue\u001b[0m\u001b[0;34m,\u001b[0m \u001b[0mdata\u001b[0m\u001b[0;34m=\u001b[0m\u001b[0;32mNone\u001b[0m\u001b[0;34m,\u001b[0m \u001b[0;34m**\u001b[0m\u001b[0mkwargs\u001b[0m\u001b[0;34m)\u001b[0m\u001b[0;34m:\u001b[0m\u001b[0;34m\u001b[0m\u001b[0;34m\u001b[0m\u001b[0m\n\u001b[0;32m-> 2840\u001b[0;31m     return gca().plot(\n\u001b[0m\u001b[1;32m   2841\u001b[0m         \u001b[0;34m*\u001b[0m\u001b[0margs\u001b[0m\u001b[0;34m,\u001b[0m \u001b[0mscalex\u001b[0m\u001b[0;34m=\u001b[0m\u001b[0mscalex\u001b[0m\u001b[0;34m,\u001b[0m \u001b[0mscaley\u001b[0m\u001b[0;34m=\u001b[0m\u001b[0mscaley\u001b[0m\u001b[0;34m,\u001b[0m\u001b[0;34m\u001b[0m\u001b[0;34m\u001b[0m\u001b[0m\n\u001b[1;32m   2842\u001b[0m         **({\"data\": data} if data is not None else {}), **kwargs)\n",
      "\u001b[0;32m/usr/local/lib/python3.9/site-packages/matplotlib/axes/_axes.py\u001b[0m in \u001b[0;36mplot\u001b[0;34m(self, scalex, scaley, data, *args, **kwargs)\u001b[0m\n\u001b[1;32m   1741\u001b[0m         \"\"\"\n\u001b[1;32m   1742\u001b[0m         \u001b[0mkwargs\u001b[0m \u001b[0;34m=\u001b[0m \u001b[0mcbook\u001b[0m\u001b[0;34m.\u001b[0m\u001b[0mnormalize_kwargs\u001b[0m\u001b[0;34m(\u001b[0m\u001b[0mkwargs\u001b[0m\u001b[0;34m,\u001b[0m \u001b[0mmlines\u001b[0m\u001b[0;34m.\u001b[0m\u001b[0mLine2D\u001b[0m\u001b[0;34m)\u001b[0m\u001b[0;34m\u001b[0m\u001b[0;34m\u001b[0m\u001b[0m\n\u001b[0;32m-> 1743\u001b[0;31m         \u001b[0mlines\u001b[0m \u001b[0;34m=\u001b[0m \u001b[0;34m[\u001b[0m\u001b[0;34m*\u001b[0m\u001b[0mself\u001b[0m\u001b[0;34m.\u001b[0m\u001b[0m_get_lines\u001b[0m\u001b[0;34m(\u001b[0m\u001b[0;34m*\u001b[0m\u001b[0margs\u001b[0m\u001b[0;34m,\u001b[0m \u001b[0mdata\u001b[0m\u001b[0;34m=\u001b[0m\u001b[0mdata\u001b[0m\u001b[0;34m,\u001b[0m \u001b[0;34m**\u001b[0m\u001b[0mkwargs\u001b[0m\u001b[0;34m)\u001b[0m\u001b[0;34m]\u001b[0m\u001b[0;34m\u001b[0m\u001b[0;34m\u001b[0m\u001b[0m\n\u001b[0m\u001b[1;32m   1744\u001b[0m         \u001b[0;32mfor\u001b[0m \u001b[0mline\u001b[0m \u001b[0;32min\u001b[0m \u001b[0mlines\u001b[0m\u001b[0;34m:\u001b[0m\u001b[0;34m\u001b[0m\u001b[0;34m\u001b[0m\u001b[0m\n\u001b[1;32m   1745\u001b[0m             \u001b[0mself\u001b[0m\u001b[0;34m.\u001b[0m\u001b[0madd_line\u001b[0m\u001b[0;34m(\u001b[0m\u001b[0mline\u001b[0m\u001b[0;34m)\u001b[0m\u001b[0;34m\u001b[0m\u001b[0;34m\u001b[0m\u001b[0m\n",
      "\u001b[0;32m/usr/local/lib/python3.9/site-packages/matplotlib/axes/_base.py\u001b[0m in \u001b[0;36m__call__\u001b[0;34m(self, data, *args, **kwargs)\u001b[0m\n\u001b[1;32m    271\u001b[0m                 \u001b[0mthis\u001b[0m \u001b[0;34m+=\u001b[0m \u001b[0margs\u001b[0m\u001b[0;34m[\u001b[0m\u001b[0;36m0\u001b[0m\u001b[0;34m]\u001b[0m\u001b[0;34m,\u001b[0m\u001b[0;34m\u001b[0m\u001b[0;34m\u001b[0m\u001b[0m\n\u001b[1;32m    272\u001b[0m                 \u001b[0margs\u001b[0m \u001b[0;34m=\u001b[0m \u001b[0margs\u001b[0m\u001b[0;34m[\u001b[0m\u001b[0;36m1\u001b[0m\u001b[0;34m:\u001b[0m\u001b[0;34m]\u001b[0m\u001b[0;34m\u001b[0m\u001b[0;34m\u001b[0m\u001b[0m\n\u001b[0;32m--> 273\u001b[0;31m             \u001b[0;32myield\u001b[0m \u001b[0;32mfrom\u001b[0m \u001b[0mself\u001b[0m\u001b[0;34m.\u001b[0m\u001b[0m_plot_args\u001b[0m\u001b[0;34m(\u001b[0m\u001b[0mthis\u001b[0m\u001b[0;34m,\u001b[0m \u001b[0mkwargs\u001b[0m\u001b[0;34m)\u001b[0m\u001b[0;34m\u001b[0m\u001b[0;34m\u001b[0m\u001b[0m\n\u001b[0m\u001b[1;32m    274\u001b[0m \u001b[0;34m\u001b[0m\u001b[0m\n\u001b[1;32m    275\u001b[0m     \u001b[0;32mdef\u001b[0m \u001b[0mget_next_color\u001b[0m\u001b[0;34m(\u001b[0m\u001b[0mself\u001b[0m\u001b[0;34m)\u001b[0m\u001b[0;34m:\u001b[0m\u001b[0;34m\u001b[0m\u001b[0;34m\u001b[0m\u001b[0m\n",
      "\u001b[0;32m/usr/local/lib/python3.9/site-packages/matplotlib/axes/_base.py\u001b[0m in \u001b[0;36m_plot_args\u001b[0;34m(self, tup, kwargs)\u001b[0m\n\u001b[1;32m    397\u001b[0m \u001b[0;34m\u001b[0m\u001b[0m\n\u001b[1;32m    398\u001b[0m         \u001b[0;32mif\u001b[0m \u001b[0mx\u001b[0m\u001b[0;34m.\u001b[0m\u001b[0mshape\u001b[0m\u001b[0;34m[\u001b[0m\u001b[0;36m0\u001b[0m\u001b[0;34m]\u001b[0m \u001b[0;34m!=\u001b[0m \u001b[0my\u001b[0m\u001b[0;34m.\u001b[0m\u001b[0mshape\u001b[0m\u001b[0;34m[\u001b[0m\u001b[0;36m0\u001b[0m\u001b[0;34m]\u001b[0m\u001b[0;34m:\u001b[0m\u001b[0;34m\u001b[0m\u001b[0;34m\u001b[0m\u001b[0m\n\u001b[0;32m--> 399\u001b[0;31m             raise ValueError(f\"x and y must have same first dimension, but \"\n\u001b[0m\u001b[1;32m    400\u001b[0m                              f\"have shapes {x.shape} and {y.shape}\")\n\u001b[1;32m    401\u001b[0m         \u001b[0;32mif\u001b[0m \u001b[0mx\u001b[0m\u001b[0;34m.\u001b[0m\u001b[0mndim\u001b[0m \u001b[0;34m>\u001b[0m \u001b[0;36m2\u001b[0m \u001b[0;32mor\u001b[0m \u001b[0my\u001b[0m\u001b[0;34m.\u001b[0m\u001b[0mndim\u001b[0m \u001b[0;34m>\u001b[0m \u001b[0;36m2\u001b[0m\u001b[0;34m:\u001b[0m\u001b[0;34m\u001b[0m\u001b[0;34m\u001b[0m\u001b[0m\n",
      "\u001b[0;31mValueError\u001b[0m: x and y must have same first dimension, but have shapes (1205,) and (1196,)"
     ]
    }
   ],
   "metadata": {}
  },
  {
   "cell_type": "code",
   "execution_count": null,
   "source": [
    "# vision space position verse time\n",
    "label_font = {'family': 'serif', 'size': 15}\n",
    "tick_size = 10\n",
    "legend_size = 10\n",
    "int_err_figsize = (4, 3.6)\n",
    "comp_xlim = (0, 6.5)\n",
    "plt.subplots(figsize=int_err_figsize)\n",
    "plt.subplot(211)\n",
    "plt.plot(np.linspace(0,np.shape(comp_rdot)[1]/ros_freq,np.shape(comp_rdot)[1]), comp_x_array[:,0]-dx[0],label = 'x')\n",
    "plt.plot(np.linspace(0,np.shape(comp_rdot)[1]/ros_freq,np.shape(comp_rdot)[1]), comp_x_array[:,1]-dx[1],label = 'y')\n",
    "plt.legend(fontsize = legend_size)\n",
    "# plt.title('vision space error')\n",
    "plt.xlabel('time (s)', fontdict = label_font)\n",
    "plt.ylabel('error (pixel)', fontdict = label_font)\n",
    "plt.xticks(fontsize = tick_size)\n",
    "plt.yticks(fontsize = tick_size)\n",
    "plt.xlim(comp_xlim)\n",
    "# plt.xlim([0, np.shape(comp_rdot)[1]/ros_freq])\n",
    "plt.grid()\n",
    "\n",
    "plt.subplot(212)\n",
    "plt.plot(np.linspace(0,np.shape(log_rdot)[1]/ros_freq,np.shape(log_rdot)[1]), log_x_array[:,0]-dx[0],label = 'x')\n",
    "plt.plot(np.linspace(0,np.shape(log_rdot)[1]/ros_freq,np.shape(log_rdot)[1]), log_x_array[:,1]-dx[1],label = 'y')\n",
    "plt.legend(fontsize = legend_size)\n",
    "# plt.title('vision space error')\n",
    "plt.xlabel('time (s)', fontdict = label_font)\n",
    "plt.ylabel('error (pixel)', fontdict = label_font)\n",
    "plt.xticks(fontsize = tick_size)\n",
    "plt.yticks(fontsize = tick_size)\n",
    "plt.xlim(comp_xlim)\n",
    "# plt.xlim([0, np.shape(comp_rdot)[1]/ros_freq])\n",
    "plt.grid()\n",
    "\n",
    "plt.savefig('adaptive_comp.pdf', bbox_inches = 'tight', pad_inches = 0.015)"
   ],
   "outputs": [
    {
     "output_type": "display_data",
     "data": {
      "image/png": "[encoded data removed]",
      "text/plain": [
       "<Figure size 288x259.2 with 2 Axes>"
      ]
     },
     "metadata": {
      "needs_background": "light"
     }
    }
   ],
   "metadata": {}
  },
  {
   "cell_type": "code",
   "execution_count": null,
   "source": [
    "# # intention\n",
    "# legend_size = 8\n",
    "# plt.figure(figsize=int_err_figsize)\n",
    "# for j in range(log_d_array.shape[1]):\n",
    "#     plt.plot(np.linspace(0,np.shape(log_qdot)[1]/ros_freq,np.shape(log_qdot)[1]),log_d_array[:,j],label = str(j+1))\n",
    "# plt.legend(fontsize = legend_size, ncol = 2)\n",
    "# plt.xlabel('time (s)', fontdict = label_font)\n",
    "# plt.ylabel('input (rad/s)', fontdict = label_font)\n",
    "# plt.xticks(fontsize = tick_size)\n",
    "# plt.yticks(fontsize = tick_size)\n",
    "# plt.xlim([0, np.shape(log_rdot)[1]/ros_freq])\n",
    "# plt.grid()\n",
    "# plt.savefig('expr1_intention.jpg', bbox_inches = 'tight', dpi = 300, pad_inches = 0.015)\n",
    "# plt.savefig('expr1_intention.pdf', bbox_inches = 'tight', pad_inches = 0.015)"
   ],
   "outputs": [],
   "metadata": {}
  },
  {
   "cell_type": "code",
   "execution_count": null,
   "source": [
    "# joint\n",
    "label_font = {'family': 'serif', 'size': 10}\n",
    "tick_size = 8\n",
    "plot_by_extreme = [False, True, True, True, False, False]\n",
    "joint_val = []\n",
    "joint_val_extreme = []\n",
    "joint_val_delta_extreme = []\n",
    "plt.figure(figsize = (2, 2))\n",
    "\n",
    "for j in range(6):\n",
    "    joint_val.append(np.rad2deg(np.reshape(np.array(log_q[j,:]),[-1,])))\n",
    "    joint_val_extreme.append([np.max(joint_val[j]), np.min(joint_val[j])])\n",
    "    joint_val_delta_extreme.append(joint_val_extreme[j][0] - joint_val_extreme[j][1])\n",
    "\n",
    "space = np.max(joint_val_delta_extreme) / 2\n",
    "space *= 1.1\n",
    "\n",
    "for j in range(6):\n",
    "    # plt.subplot(1, 6, j+1)\n",
    "    plt.clf()\n",
    "    plt.xlabel('time (s)', fontdict=label_font)\n",
    "    plt.ylabel('angle (degree)', fontdict=label_font)\n",
    "    plt.xticks(fontsize = tick_size)\n",
    "    plt.yticks(fontsize = tick_size)\n",
    "    plt.plot(np.linspace(0, np.shape(log_qdot)[1]/ros_freq, np.shape(log_qdot)[1]), joint_val[j])\n",
    "    if plot_by_extreme[j]:\n",
    "        mid = (joint_val_extreme[j][0] + joint_val_extreme[j][1]) / 2\n",
    "        plt.ylim([mid - space, mid + space])\n",
    "    else:\n",
    "        means = np.mean(joint_val[j])\n",
    "        plt.ylim([means - space, means + space])\n",
    "    plt.xlim([0, np.shape(log_qdot)[1]/ros_freq])\n",
    "    plt.grid()\n",
    "    # plt.subplots_adjust(top=1, bottom=0, right=1, left=0, hspace=0, wspace=0)\n",
    "    # plt.margins(0,0)\n",
    "    # plt.savefig('expr1_joint' + str(j) + '.jpg', pad_inches = 0.012, bbox_inches = 'tight', dpi = 300)\n",
    "    plt.savefig('expr1_joint' + str(j) + '.pdf', pad_inches = 0.012, bbox_inches = 'tight')\n",
    "# plt.savefig('log_joint.jpg')"
   ],
   "outputs": [
    {
     "output_type": "display_data",
     "data": {
      "image/png": "[encoded data removed]",
      "text/plain": [
       "<Figure size 144x144 with 1 Axes>"
      ]
     },
     "metadata": {
      "needs_background": "light"
     }
    }
   ],
   "metadata": {}
  },
  {
   "cell_type": "code",
   "execution_count": null,
   "source": [
    "# joint space velocity\n",
    "# plt.figure(figsize=(30,20))\n",
    "# for j in range(6):\n",
    "#     ax = plt.subplot(3, 2, j+1)\n",
    "#     ax.set_title('joint space velocity %d' % (j+1),fontsize=20)\n",
    "#     plt.xlabel('time (s)')\n",
    "#     plt.ylabel('velocity (m/s)')\n",
    "\n",
    "#     plt.plot(np.linspace(0,np.shape(log_qdot)[1]/ros_freq,np.shape(log_qdot)[1]),np.reshape(np.array(log_qdot[j,:]),[-1,]) )\n",
    "    # plt.plot(np.linspace(0,np.shape(log_drdot)[1]/ros_freq,np.shape(log_drdot)[1]),log_drdot[j,:].reshape(-1,))\n",
    "# plt.savefig('log_qdot.jpg')"
   ],
   "outputs": [],
   "metadata": {}
  },
  {
   "cell_type": "code",
   "execution_count": null,
   "source": [
    "# theta_k\n",
    "# plt.figure()\n",
    "# for j in range(15):\n",
    "#     lab = r'$\\theta_k('+str(j+1)+')$'\n",
    "#     plt.plot(np.linspace(0,np.shape(log_qdot)[1]/ros_freq,np.shape(log_qdot)[1]),    log_theta_k_array[:,j]-log_theta_k_array[0,j],label = lab)\n",
    "#     plt.xlabel('time (s)')\n",
    "#     plt.title(r'elements of $\\hat \\theta_k$')\n",
    "#     plt.legend()\n",
    "# plt.savefig('log_thetak.jpg')"
   ],
   "outputs": [],
   "metadata": {}
  }
 ],
 "metadata": {
  "orig_nbformat": 4,
  "language_info": {
   "name": "python",
   "version": "3.9.7",
   "mimetype": "text/x-python",
   "codemirror_mode": {
    "name": "ipython",
    "version": 3
   },
   "pygments_lexer": "ipython3",
   "nbconvert_exporter": "python",
   "file_extension": ".py"
  },
  "kernelspec": {
   "name": "python3",
   "display_name": "Python 3.9.7 64-bit"
  },
  "interpreter": {
   "hash": "aee8b7b246df8f9039afb4144a1f6fd8d2ca17a180786b69acc140d282b71a49"
  }
 },
 "nbformat": 4,
 "nbformat_minor": 2
}