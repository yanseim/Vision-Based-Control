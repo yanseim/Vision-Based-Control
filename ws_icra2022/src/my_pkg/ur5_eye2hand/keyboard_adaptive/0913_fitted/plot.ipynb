{
 "cells": [
  {
   "cell_type": "code",
   "execution_count": null,
   "source": [
    "import numpy as np\n",
    "import matplotlib.pyplot as plt"
   ],
   "outputs": [],
   "metadata": {}
  },
  {
   "cell_type": "code",
   "execution_count": 15,
   "source": [
    "# Initialization\n",
    "log_x_array = np.load('log_x.npy')\n",
    "log_q = np.load('log_q.npy')\n",
    "log_qdot = np.load('log_qdot.npy')\n",
    "log_rdot = np.load('log_rdot.npy')\n",
    "log_dqdot = np.load('log_dqdot.npy')\n",
    "# log_dx = np.load('log_dx.npy')\n",
    "log_theta_k_array = np.load('log_theta_k.npy')\n",
    "log_theta_z_array = np.load('log_theta_z.npy')\n",
    "log_z_hat_array = np.load('log_z_hat.npy')\n",
    "log_d_array = np.load('log_d.npy')\n",
    "\n",
    "comp_x_array = np.load('comparison/log_x.npy')\n",
    "comp_rdot = np.load('comparison/log_rdot.npy')\n",
    "\n",
    "ros_freq = 30\n",
    "dx = np.array([[720],[540]])"
   ],
   "outputs": [],
   "metadata": {}
  },
  {
   "cell_type": "code",
   "execution_count": null,
   "source": [
    "# task space velocity\n",
    "# plt.figure(figsize=(30,20))\n",
    "# for j in range(6):\n",
    "#     ax = plt.subplot(3, 2, j+1)\n",
    "#     ax.set_title('Cartesian space velocity %d' % (j+1),fontsize=20)\n",
    "#     plt.xlabel('time (s)')\n",
    "#     if j<3:\n",
    "    #     plt.ylabel('velocity (m/s)', fontsize = 18)\n",
    "    # else:\n",
    "    #     plt.ylabel('angular velocity (rad/s)',fontsize = 18)\n",
    "\n",
    "    # plt.plot(np.linspace(0,np.shape(log_rdot)[1]/ros_freq,np.shape(log_rdot)[1]),np.reshape(np.array(log_rdot[j,:]),[-1,]) )\n",
    "# plt.savefig('log_r.jpg')"
   ],
   "outputs": [],
   "metadata": {}
  },
  {
   "cell_type": "code",
   "execution_count": 17,
   "source": [
    "# vision space position\n",
    "# fig = plt.figure()\n",
    "label_font = {'family': 'serif', 'size': 15}\n",
    "tick_size = 10\n",
    "legend_size = 10\n",
    "plt.figure(figsize=(4, 4))\n",
    "plt.plot(log_x_array[:,0], log_x_array[:,1], label = 'actual', zorder = 2)\n",
    "plt.scatter(dx[0], dx[1], c='r', label = 'target', zorder = 3, marker = '*', s = 400, alpha = 1, edgecolors='black')\n",
    "plt.legend(markerscale = 0.7, fontsize = legend_size)\n",
    "# plt.title('vision space trajectory')\n",
    "plt.xlabel('x (pixel)', fontdict=label_font)\n",
    "plt.ylabel('y (pixel)', fontdict=label_font)\n",
    "plt.xticks(fontsize = tick_size)\n",
    "plt.yticks(fontsize = tick_size)\n",
    "# plt.gca().xaxis.set_label_position('top')\n",
    "# plt.gca().xaxis.set_ticks_position('top')\n",
    "# plt.xlim(525, 975)\n",
    "# plt.ylim(925, 475)\n",
    "plt.xlim(650, 1150)\n",
    "plt.ylim(700, 200)\n",
    "plt.grid()\n",
    "plt.savefig('fit_position.jpg', bbox_inches = 'tight', dpi = 300, pad_inches=0.015)\n",
    "plt.savefig('fit_position.pdf', bbox_inches = 'tight', pad_inches=0.015)"
   ],
   "outputs": [
    {
     "output_type": "display_data",
     "data": {
      "image/png": "[encoded data removed]",
      "text/plain": [
       "<Figure size 288x288 with 1 Axes>"
      ]
     },
     "metadata": {
      "needs_background": "light"
     }
    }
   ],
   "metadata": {}
  },
  {
   "cell_type": "code",
   "execution_count": 16,
   "source": [
    "# vision space position\n",
    "# fig = plt.figure()\n",
    "label_font = {'family': 'serif', 'size': 15}\n",
    "tick_size = 10\n",
    "legend_size = 10\n",
    "plt.figure(figsize=(4, 4))\n",
    "plt.plot(comp_x_array[:,0], comp_x_array[:,1], label = 'actual', zorder = 2)\n",
    "plt.scatter(dx[0], dx[1], c='r', label = 'target', zorder = 3, marker = '*', s = 400, alpha = 1, edgecolors='black')\n",
    "plt.legend(markerscale = 0.7, fontsize = legend_size)\n",
    "# plt.title('vision space trajectory')\n",
    "plt.xlabel('x (pixel)', fontdict=label_font)\n",
    "plt.ylabel('y (pixel)', fontdict=label_font)\n",
    "plt.xticks(fontsize = tick_size)\n",
    "plt.yticks(fontsize = tick_size)\n",
    "# plt.gca().xaxis.set_label_position('top')\n",
    "# plt.gca().xaxis.set_ticks_position('top')\n",
    "# plt.xlim(525, 975)\n",
    "# plt.ylim(925, 475)\n",
    "plt.xlim(650, 1150)\n",
    "plt.ylim(700, 200)\n",
    "plt.grid()\n",
    "plt.savefig('comp_position.jpg', bbox_inches = 'tight', dpi = 300, pad_inches=0.015)\n",
    "plt.savefig('comp_position.pdf', bbox_inches = 'tight', pad_inches=0.015)"
   ],
   "outputs": [
    {
     "output_type": "display_data",
     "data": {
      "image/png": "[encoded data removed]",
      "text/plain": [
       "<Figure size 288x288 with 1 Axes>"
      ]
     },
     "metadata": {
      "needs_background": "light"
     }
    }
   ],
   "metadata": {}
  },
  {
   "cell_type": "code",
   "execution_count": null,
   "source": [
    "# Converge speed comparison\n",
    "label_font = {'family': 'serif', 'size': 15}\n",
    "tick_size = 10\n",
    "legend_size = 10\n",
    "int_err_figsize = (4, 3.6)\n",
    "plt.subplots(figsize=int_err_figsize)\n",
    "plt.subplot(211)\n",
    "plt.plot(np.linspace(0,np.shape(log_rdot)[1]/ros_freq,np.shape(log_rdot)[1]), log_x_array[:,0]-dx[0],label = 'x')\n",
    "plt.plot(np.linspace(0,np.shape(log_rdot)[1]/ros_freq,np.shape(log_rdot)[1]), log_x_array[:,1]-dx[1],label = 'y')\n",
    "plt.legend(fontsize = legend_size)\n",
    "# plt.title('vision space error')\n",
    "plt.xlabel('time (s)', fontdict = label_font)\n",
    "plt.ylabel('error (pixel)', fontdict = label_font)\n",
    "plt.xticks(fontsize = tick_size)\n",
    "plt.yticks(fontsize = tick_size)\n",
    "plt.xlim([0, np.shape(log_rdot)[1]/ros_freq])\n",
    "plt.grid()\n",
    "\n",
    "plt.subplot(212)\n",
    "plt.plot(np.linspace(0,np.shape(log_rdot)[1]/ros_freq,np.shape(log_rdot)[1]), log_x_array[:,0]-dx[0],label = 'x')\n",
    "plt.plot(np.linspace(0,np.shape(log_rdot)[1]/ros_freq,np.shape(log_rdot)[1]), log_x_array[:,1]-dx[1],label = 'y')\n",
    "plt.legend(fontsize = legend_size)\n",
    "# plt.title('vision space error')\n",
    "plt.xlabel('time (s)', fontdict = label_font)\n",
    "plt.ylabel('error (pixel)', fontdict = label_font)\n",
    "plt.xticks(fontsize = tick_size)\n",
    "plt.yticks(fontsize = tick_size)\n",
    "plt.xlim([0, np.shape(log_rdot)[1]/ros_freq])\n",
    "plt.grid()\n",
    "\n",
    "plt.savefig('fit_converge_comp.pdf', bbox_inches = 'tight', pad_inches = 0.015)"
   ],
   "outputs": [],
   "metadata": {}
  },
  {
   "cell_type": "code",
   "execution_count": null,
   "source": [
    "# # intention\n",
    "# legend_size = 8\n",
    "# plt.figure(figsize=int_err_figsize)\n",
    "# for j in range(log_d_array.shape[1]):\n",
    "#     plt.plot(np.linspace(0,np.shape(log_qdot)[1]/ros_freq,np.shape(log_qdot)[1]),log_d_array[:,j],label = str(j+1))\n",
    "# plt.legend(fontsize = legend_size, ncol = 2)\n",
    "# plt.xlabel('time (s)', fontdict = label_font)\n",
    "# plt.ylabel('input (rad/s)', fontdict = label_font)\n",
    "# plt.xticks(fontsize = tick_size)\n",
    "# plt.yticks(fontsize = tick_size)\n",
    "# plt.xlim([0, np.shape(log_rdot)[1]/ros_freq])\n",
    "# plt.grid()\n",
    "# plt.savefig('expr1_intention.jpg', bbox_inches = 'tight', dpi = 300, pad_inches = 0.015)\n",
    "# plt.savefig('expr1_intention.pdf', bbox_inches = 'tight', pad_inches = 0.015)"
   ],
   "outputs": [],
   "metadata": {}
  },
  {
   "cell_type": "code",
   "execution_count": null,
   "source": [
    "# joint\n",
    "label_font = {'family': 'serif', 'size': 10}\n",
    "tick_size = 8\n",
    "plot_by_extreme = [False, True, True, True, False, False]\n",
    "joint_val = []\n",
    "joint_val_extreme = []\n",
    "joint_val_delta_extreme = []\n",
    "plt.figure(figsize = (2, 2))\n",
    "\n",
    "for j in range(6):\n",
    "    joint_val.append(np.rad2deg(np.reshape(np.array(log_q[j,:]),[-1,])))\n",
    "    joint_val_extreme.append([np.max(joint_val[j]), np.min(joint_val[j])])\n",
    "    joint_val_delta_extreme.append(joint_val_extreme[j][0] - joint_val_extreme[j][1])\n",
    "\n",
    "space = np.max(joint_val_delta_extreme) / 2\n",
    "space *= 1.1\n",
    "\n",
    "for j in range(6):\n",
    "    # plt.subplot(1, 6, j+1)\n",
    "    plt.clf()\n",
    "    plt.xlabel('time (s)', fontdict=label_font)\n",
    "    plt.ylabel('angle (degree)', fontdict=label_font)\n",
    "    plt.xticks(fontsize = tick_size)\n",
    "    plt.yticks(fontsize = tick_size)\n",
    "    plt.plot(np.linspace(0, np.shape(log_qdot)[1]/ros_freq, np.shape(log_qdot)[1]), joint_val[j])\n",
    "    if plot_by_extreme[j]:\n",
    "        mid = (joint_val_extreme[j][0] + joint_val_extreme[j][1]) / 2\n",
    "        plt.ylim([mid - space, mid + space])\n",
    "    else:\n",
    "        means = np.mean(joint_val[j])\n",
    "        plt.ylim([means - space, means + space])\n",
    "    plt.xlim([0, np.shape(log_qdot)[1]/ros_freq])\n",
    "    plt.grid()\n",
    "    # plt.subplots_adjust(top=1, bottom=0, right=1, left=0, hspace=0, wspace=0)\n",
    "    # plt.margins(0,0)\n",
    "    plt.savefig('expr1_joint' + str(j) + '.jpg', pad_inches = 0.012, bbox_inches = 'tight', dpi = 300)\n",
    "    plt.savefig('expr1_joint' + str(j) + '.pdf', pad_inches = 0.012, bbox_inches = 'tight')\n",
    "# plt.savefig('log_joint.jpg')"
   ],
   "outputs": [],
   "metadata": {}
  },
  {
   "cell_type": "code",
   "execution_count": null,
   "source": [
    "# joint space velocity\n",
    "# plt.figure(figsize=(30,20))\n",
    "# for j in range(6):\n",
    "#     ax = plt.subplot(3, 2, j+1)\n",
    "#     ax.set_title('joint space velocity %d' % (j+1),fontsize=20)\n",
    "#     plt.xlabel('time (s)')\n",
    "#     plt.ylabel('velocity (m/s)')\n",
    "\n",
    "#     plt.plot(np.linspace(0,np.shape(log_qdot)[1]/ros_freq,np.shape(log_qdot)[1]),np.reshape(np.array(log_qdot[j,:]),[-1,]) )\n",
    "    # plt.plot(np.linspace(0,np.shape(log_drdot)[1]/ros_freq,np.shape(log_drdot)[1]),log_drdot[j,:].reshape(-1,))\n",
    "# plt.savefig('log_qdot.jpg')"
   ],
   "outputs": [],
   "metadata": {}
  },
  {
   "cell_type": "code",
   "execution_count": null,
   "source": [
    "# theta_k\n",
    "# plt.figure()\n",
    "# for j in range(15):\n",
    "#     lab = r'$\\theta_k('+str(j+1)+')$'\n",
    "#     plt.plot(np.linspace(0,np.shape(log_qdot)[1]/ros_freq,np.shape(log_qdot)[1]),    log_theta_k_array[:,j]-log_theta_k_array[0,j],label = lab)\n",
    "#     plt.xlabel('time (s)')\n",
    "#     plt.title(r'elements of $\\hat \\theta_k$')\n",
    "#     plt.legend()\n",
    "# plt.savefig('log_thetak.jpg')"
   ],
   "outputs": [],
   "metadata": {}
  }
 ],
 "metadata": {
  "orig_nbformat": 4,
  "language_info": {
   "name": "python",
   "version": "3.9.7",
   "mimetype": "text/x-python",
   "codemirror_mode": {
    "name": "ipython",
    "version": 3
   },
   "pygments_lexer": "ipython3",
   "nbconvert_exporter": "python",
   "file_extension": ".py"
  },
  "kernelspec": {
   "name": "python3",
   "display_name": "Python 3.9.7 64-bit"
  },
  "interpreter": {
   "hash": "aee8b7b246df8f9039afb4144a1f6fd8d2ca17a180786b69acc140d282b71a49"
  }
 },
 "nbformat": 4,
 "nbformat_minor": 2
}