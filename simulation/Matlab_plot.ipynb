{
 "cells": [
  {
   "cell_type": "code",
   "execution_count": 35,
   "source": [
    "from scipy.io import loadmat\n",
    "import numpy as np\n",
    "import matplotlib.pyplot as plt"
   ],
   "outputs": [],
   "metadata": {}
  },
  {
   "cell_type": "code",
   "execution_count": 36,
   "source": [
    "un = loadmat('s3_have_un_0226.mat')\n",
    "no_un = loadmat('s3_no_un_0226.mat')"
   ],
   "outputs": [
    {
     "output_type": "stream",
     "name": "stderr",
     "text": [
      "/usr/local/lib/python3.9/site-packages/scipy/io/matlab/mio.py:226: MatReadWarning: Duplicate variable name \"None\" in stream - replacing previous with new\n",
      "Consider mio5.varmats_from_mat to split file into single variable files\n",
      "  matfile_dict = MR.get_variables(variable_names)\n"
     ]
    }
   ],
   "metadata": {}
  },
  {
   "cell_type": "code",
   "execution_count": 37,
   "source": [
    "# d.keys()"
   ],
   "outputs": [],
   "metadata": {}
  },
  {
   "cell_type": "code",
   "execution_count": 38,
   "source": [
    "label_font = {'size': 15}\n",
    "tick_size = 10\n",
    "legend_size = 10\n",
    "mat_figsize = (4, 1.8)"
   ],
   "outputs": [],
   "metadata": {}
  },
  {
   "cell_type": "code",
   "execution_count": 39,
   "source": [
    "plt.figure(figsize = mat_figsize)\n",
    "un_time = un['T'][0,:]\n",
    "plt.plot(un_time, un['X'][0,:], label = 'x\\u2081')\n",
    "plt.plot(un_time, un['X'][1,:], label = 'x\\u2082')\n",
    "plt.xlabel('time (s)', fontdict = label_font)\n",
    "plt.ylabel('error (pixel)', fontdict = label_font)\n",
    "plt.xlim(un_time[0], un_time[-1])\n",
    "plt.legend(fontsize = legend_size)\n",
    "plt.grid()\n",
    "plt.savefig('un_err.pdf', bbox_inches = 'tight')"
   ],
   "outputs": [
    {
     "output_type": "display_data",
     "data": {
      "image/png": "[encoded data removed]",
      "text/plain": [
       "<Figure size 288x129.6 with 1 Axes>"
      ]
     },
     "metadata": {
      "needs_background": "light"
     }
    }
   ],
   "metadata": {}
  },
  {
   "cell_type": "code",
   "execution_count": 40,
   "source": [
    "for j in range(7):\n",
    "    plt.clf()\n",
    "    plt.figure(figsize = mat_figsize)\n",
    "    plt.plot(un_time, un['log_taue'][j, :].transpose())\n",
    "    plt.xlabel('time (s)', fontdict = label_font)\n",
    "    plt.ylabel('intention (rad/s)', fontdict = label_font)\n",
    "    plt.xlim(un_time[0], un_time[-1])\n",
    "    plt.grid()\n",
    "    plt.savefig('un_joint' + str(j) + '.pdf', bbox_inches = 'tight')"
   ],
   "outputs": [
    {
     "output_type": "display_data",
     "data": {
      "text/plain": [
       "<Figure size 432x288 with 0 Axes>"
      ]
     },
     "metadata": {}
    },
    {
     "output_type": "display_data",
     "data": {
      "text/plain": [
       "<Figure size 288x129.6 with 0 Axes>"
      ]
     },
     "metadata": {}
    },
    {
     "output_type": "display_data",
     "data": {
      "text/plain": [
       "<Figure size 288x129.6 with 0 Axes>"
      ]
     },
     "metadata": {}
    },
    {
     "output_type": "display_data",
     "data": {
      "text/plain": [
       "<Figure size 288x129.6 with 0 Axes>"
      ]
     },
     "metadata": {}
    },
    {
     "output_type": "display_data",
     "data": {
      "text/plain": [
       "<Figure size 288x129.6 with 0 Axes>"
      ]
     },
     "metadata": {}
    },
    {
     "output_type": "display_data",
     "data": {
      "text/plain": [
       "<Figure size 288x129.6 with 0 Axes>"
      ]
     },
     "metadata": {}
    },
    {
     "output_type": "display_data",
     "data": {
      "text/plain": [
       "<Figure size 288x129.6 with 0 Axes>"
      ]
     },
     "metadata": {}
    },
    {
     "output_type": "display_data",
     "data": {
      "image/png": "[encoded data removed]",
      "text/plain": [
       "<Figure size 288x129.6 with 1 Axes>"
      ]
     },
     "metadata": {
      "needs_background": "light"
     }
    }
   ],
   "metadata": {}
  },
  {
   "cell_type": "code",
   "execution_count": 41,
   "source": [
    "plt.figure(figsize = mat_figsize)\n",
    "no_un_time = no_un['T'][0,:]\n",
    "plt.plot(no_un_time, no_un['X'][0,:], label = 'x\\u2081')\n",
    "plt.plot(no_un_time, no_un['X'][1,:], label = 'x\\u2082')\n",
    "plt.xlabel('time (s)', fontdict = label_font)\n",
    "plt.ylabel('error (pixel)', fontdict = label_font)\n",
    "plt.xlim(no_un_time[0], no_un_time[-1])\n",
    "plt.legend(fontsize = legend_size)\n",
    "plt.grid()\n",
    "plt.savefig('no_un_err.pdf', bbox_inches = 'tight')"
   ],
   "outputs": [
    {
     "output_type": "display_data",
     "data": {
      "image/png": "[encoded data removed]",
      "text/plain": [
       "<Figure size 288x129.6 with 1 Axes>"
      ]
     },
     "metadata": {
      "needs_background": "light"
     }
    }
   ],
   "metadata": {}
  },
  {
   "cell_type": "code",
   "execution_count": 42,
   "source": [
    "for j in range(7):\n",
    "    plt.clf()\n",
    "    plt.figure(figsize = mat_figsize)\n",
    "    plt.plot(no_un_time, no_un['log_taue'][j, :].transpose())\n",
    "    plt.xlabel('time (s)', fontdict = label_font)\n",
    "    plt.ylabel('intention (rad/s)', fontdict = label_font)\n",
    "    plt.xlim(no_un_time[0], no_un_time[-1])\n",
    "    plt.grid()\n",
    "    plt.savefig('no_un_joint' + str(j) + '.pdf', bbox_inches = 'tight')"
   ],
   "outputs": [
    {
     "output_type": "display_data",
     "data": {
      "text/plain": [
       "<Figure size 432x288 with 0 Axes>"
      ]
     },
     "metadata": {}
    },
    {
     "output_type": "display_data",
     "data": {
      "text/plain": [
       "<Figure size 288x129.6 with 0 Axes>"
      ]
     },
     "metadata": {}
    },
    {
     "output_type": "display_data",
     "data": {
      "text/plain": [
       "<Figure size 288x129.6 with 0 Axes>"
      ]
     },
     "metadata": {}
    },
    {
     "output_type": "display_data",
     "data": {
      "text/plain": [
       "<Figure size 288x129.6 with 0 Axes>"
      ]
     },
     "metadata": {}
    },
    {
     "output_type": "display_data",
     "data": {
      "text/plain": [
       "<Figure size 288x129.6 with 0 Axes>"
      ]
     },
     "metadata": {}
    },
    {
     "output_type": "display_data",
     "data": {
      "text/plain": [
       "<Figure size 288x129.6 with 0 Axes>"
      ]
     },
     "metadata": {}
    },
    {
     "output_type": "display_data",
     "data": {
      "text/plain": [
       "<Figure size 288x129.6 with 0 Axes>"
      ]
     },
     "metadata": {}
    },
    {
     "output_type": "display_data",
     "data": {
      "image/png": "[encoded data removed]",
      "text/plain": [
       "<Figure size 288x129.6 with 1 Axes>"
      ]
     },
     "metadata": {
      "needs_background": "light"
     }
    }
   ],
   "metadata": {}
  }
 ],
 "metadata": {
  "orig_nbformat": 4,
  "language_info": {
   "name": "python",
   "version": "3.9.7",
   "mimetype": "text/x-python",
   "codemirror_mode": {
    "name": "ipython",
    "version": 3
   },
   "pygments_lexer": "ipython3",
   "nbconvert_exporter": "python",
   "file_extension": ".py"
  },
  "kernelspec": {
   "name": "python3",
   "display_name": "Python 3.9.7 64-bit"
  },
  "interpreter": {
   "hash": "aee8b7b246df8f9039afb4144a1f6fd8d2ca17a180786b69acc140d282b71a49"
  }
 },
 "nbformat": 4,
 "nbformat_minor": 2
}